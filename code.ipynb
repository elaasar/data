{
 "cells": [
  {
   "cell_type": "code",
   "execution_count": 5,
   "metadata": {},
   "outputs": [
    {
     "name": "stdout",
     "output_type": "stream",
     "text": [
      "sheet_name 1\n",
      "sheet_name 1_2\n"
     ]
    },
    {
     "name": "stderr",
     "output_type": "stream",
     "text": [
      "C:\\Users\\workstation\\AppData\\Local\\Temp\\ipykernel_19532\\3346192428.py:24: SettingWithCopyWarning: \n",
      "A value is trying to be set on a copy of a slice from a DataFrame.\n",
      "Try using .loc[row_indexer,col_indexer] = value instead\n",
      "\n",
      "See the caveats in the documentation: https://pandas.pydata.org/pandas-docs/stable/user_guide/indexing.html#returning-a-view-versus-a-copy\n",
      "  df_f[\"القطاع\"]='اقتصادية'\n",
      "C:\\Users\\workstation\\AppData\\Local\\Temp\\ipykernel_19532\\3346192428.py:25: SettingWithCopyWarning: \n",
      "A value is trying to be set on a copy of a slice from a DataFrame.\n",
      "Try using .loc[row_indexer,col_indexer] = value instead\n",
      "\n",
      "See the caveats in the documentation: https://pandas.pydata.org/pandas-docs/stable/user_guide/indexing.html#returning-a-view-versus-a-copy\n",
      "  df_f[\"الادارةالمركزية\"]='الادارة المركزية للاحصاءات الاقتصادية والمالية'\n",
      "C:\\Users\\workstation\\AppData\\Local\\Temp\\ipykernel_19532\\3346192428.py:26: SettingWithCopyWarning: \n",
      "A value is trying to be set on a copy of a slice from a DataFrame.\n",
      "Try using .loc[row_indexer,col_indexer] = value instead\n",
      "\n",
      "See the caveats in the documentation: https://pandas.pydata.org/pandas-docs/stable/user_guide/indexing.html#returning-a-view-versus-a-copy\n",
      "  df_f[\"الادارةالعامة\"]='الادارة العامة للإحصاءات الزراعية'\n",
      "C:\\Users\\workstation\\AppData\\Local\\Temp\\ipykernel_19532\\3346192428.py:27: SettingWithCopyWarning: \n",
      "A value is trying to be set on a copy of a slice from a DataFrame.\n",
      "Try using .loc[row_indexer,col_indexer] = value instead\n",
      "\n",
      "See the caveats in the documentation: https://pandas.pydata.org/pandas-docs/stable/user_guide/indexing.html#returning-a-view-versus-a-copy\n",
      "  df_f[\"اسم النشرة\"]='الآلات الزراعية الميكانيكية'\n",
      "C:\\Users\\workstation\\AppData\\Local\\Temp\\ipykernel_19532\\3346192428.py:24: SettingWithCopyWarning: \n",
      "A value is trying to be set on a copy of a slice from a DataFrame.\n",
      "Try using .loc[row_indexer,col_indexer] = value instead\n",
      "\n",
      "See the caveats in the documentation: https://pandas.pydata.org/pandas-docs/stable/user_guide/indexing.html#returning-a-view-versus-a-copy\n",
      "  df_f[\"القطاع\"]='اقتصادية'\n",
      "C:\\Users\\workstation\\AppData\\Local\\Temp\\ipykernel_19532\\3346192428.py:25: SettingWithCopyWarning: \n",
      "A value is trying to be set on a copy of a slice from a DataFrame.\n",
      "Try using .loc[row_indexer,col_indexer] = value instead\n",
      "\n",
      "See the caveats in the documentation: https://pandas.pydata.org/pandas-docs/stable/user_guide/indexing.html#returning-a-view-versus-a-copy\n",
      "  df_f[\"الادارةالمركزية\"]='الادارة المركزية للاحصاءات الاقتصادية والمالية'\n",
      "C:\\Users\\workstation\\AppData\\Local\\Temp\\ipykernel_19532\\3346192428.py:26: SettingWithCopyWarning: \n",
      "A value is trying to be set on a copy of a slice from a DataFrame.\n",
      "Try using .loc[row_indexer,col_indexer] = value instead\n",
      "\n",
      "See the caveats in the documentation: https://pandas.pydata.org/pandas-docs/stable/user_guide/indexing.html#returning-a-view-versus-a-copy\n",
      "  df_f[\"الادارةالعامة\"]='الادارة العامة للإحصاءات الزراعية'\n"
     ]
    },
    {
     "name": "stdout",
     "output_type": "stream",
     "text": [
      "sheet_name 2\n",
      "sheet_name 3\n"
     ]
    },
    {
     "name": "stderr",
     "output_type": "stream",
     "text": [
      "C:\\Users\\workstation\\AppData\\Local\\Temp\\ipykernel_19532\\3346192428.py:24: SettingWithCopyWarning: \n",
      "A value is trying to be set on a copy of a slice from a DataFrame.\n",
      "Try using .loc[row_indexer,col_indexer] = value instead\n",
      "\n",
      "See the caveats in the documentation: https://pandas.pydata.org/pandas-docs/stable/user_guide/indexing.html#returning-a-view-versus-a-copy\n",
      "  df_f[\"القطاع\"]='اقتصادية'\n",
      "C:\\Users\\workstation\\AppData\\Local\\Temp\\ipykernel_19532\\3346192428.py:25: SettingWithCopyWarning: \n",
      "A value is trying to be set on a copy of a slice from a DataFrame.\n",
      "Try using .loc[row_indexer,col_indexer] = value instead\n",
      "\n",
      "See the caveats in the documentation: https://pandas.pydata.org/pandas-docs/stable/user_guide/indexing.html#returning-a-view-versus-a-copy\n",
      "  df_f[\"الادارةالمركزية\"]='الادارة المركزية للاحصاءات الاقتصادية والمالية'\n",
      "C:\\Users\\workstation\\AppData\\Local\\Temp\\ipykernel_19532\\3346192428.py:24: SettingWithCopyWarning: \n",
      "A value is trying to be set on a copy of a slice from a DataFrame.\n",
      "Try using .loc[row_indexer,col_indexer] = value instead\n",
      "\n",
      "See the caveats in the documentation: https://pandas.pydata.org/pandas-docs/stable/user_guide/indexing.html#returning-a-view-versus-a-copy\n",
      "  df_f[\"القطاع\"]='اقتصادية'\n",
      "C:\\Users\\workstation\\AppData\\Local\\Temp\\ipykernel_19532\\3346192428.py:25: SettingWithCopyWarning: \n",
      "A value is trying to be set on a copy of a slice from a DataFrame.\n",
      "Try using .loc[row_indexer,col_indexer] = value instead\n",
      "\n",
      "See the caveats in the documentation: https://pandas.pydata.org/pandas-docs/stable/user_guide/indexing.html#returning-a-view-versus-a-copy\n",
      "  df_f[\"الادارةالمركزية\"]='الادارة المركزية للاحصاءات الاقتصادية والمالية'\n"
     ]
    },
    {
     "name": "stdout",
     "output_type": "stream",
     "text": [
      "sheet_name 3_2\n",
      "sheet_name 4\n"
     ]
    },
    {
     "name": "stderr",
     "output_type": "stream",
     "text": [
      "C:\\Users\\workstation\\AppData\\Local\\Temp\\ipykernel_19532\\3346192428.py:24: SettingWithCopyWarning: \n",
      "A value is trying to be set on a copy of a slice from a DataFrame.\n",
      "Try using .loc[row_indexer,col_indexer] = value instead\n",
      "\n",
      "See the caveats in the documentation: https://pandas.pydata.org/pandas-docs/stable/user_guide/indexing.html#returning-a-view-versus-a-copy\n",
      "  df_f[\"القطاع\"]='اقتصادية'\n",
      "C:\\Users\\workstation\\AppData\\Local\\Temp\\ipykernel_19532\\3346192428.py:24: SettingWithCopyWarning: \n",
      "A value is trying to be set on a copy of a slice from a DataFrame.\n",
      "Try using .loc[row_indexer,col_indexer] = value instead\n",
      "\n",
      "See the caveats in the documentation: https://pandas.pydata.org/pandas-docs/stable/user_guide/indexing.html#returning-a-view-versus-a-copy\n",
      "  df_f[\"القطاع\"]='اقتصادية'\n"
     ]
    },
    {
     "name": "stdout",
     "output_type": "stream",
     "text": [
      "sheet_name 5\n",
      "sheet_name 6\n"
     ]
    },
    {
     "name": "stderr",
     "output_type": "stream",
     "text": [
      "C:\\Users\\workstation\\AppData\\Local\\Temp\\ipykernel_19532\\3346192428.py:24: SettingWithCopyWarning: \n",
      "A value is trying to be set on a copy of a slice from a DataFrame.\n",
      "Try using .loc[row_indexer,col_indexer] = value instead\n",
      "\n",
      "See the caveats in the documentation: https://pandas.pydata.org/pandas-docs/stable/user_guide/indexing.html#returning-a-view-versus-a-copy\n",
      "  df_f[\"القطاع\"]='اقتصادية'\n",
      "C:\\Users\\workstation\\AppData\\Local\\Temp\\ipykernel_19532\\3346192428.py:25: SettingWithCopyWarning: \n",
      "A value is trying to be set on a copy of a slice from a DataFrame.\n",
      "Try using .loc[row_indexer,col_indexer] = value instead\n",
      "\n",
      "See the caveats in the documentation: https://pandas.pydata.org/pandas-docs/stable/user_guide/indexing.html#returning-a-view-versus-a-copy\n",
      "  df_f[\"الادارةالمركزية\"]='الادارة المركزية للاحصاءات الاقتصادية والمالية'\n",
      "C:\\Users\\workstation\\AppData\\Local\\Temp\\ipykernel_19532\\3346192428.py:24: SettingWithCopyWarning: \n",
      "A value is trying to be set on a copy of a slice from a DataFrame.\n",
      "Try using .loc[row_indexer,col_indexer] = value instead\n",
      "\n",
      "See the caveats in the documentation: https://pandas.pydata.org/pandas-docs/stable/user_guide/indexing.html#returning-a-view-versus-a-copy\n",
      "  df_f[\"القطاع\"]='اقتصادية'\n",
      "C:\\Users\\workstation\\AppData\\Local\\Temp\\ipykernel_19532\\3346192428.py:25: SettingWithCopyWarning: \n",
      "A value is trying to be set on a copy of a slice from a DataFrame.\n",
      "Try using .loc[row_indexer,col_indexer] = value instead\n",
      "\n",
      "See the caveats in the documentation: https://pandas.pydata.org/pandas-docs/stable/user_guide/indexing.html#returning-a-view-versus-a-copy\n",
      "  df_f[\"الادارةالمركزية\"]='الادارة المركزية للاحصاءات الاقتصادية والمالية'\n"
     ]
    },
    {
     "name": "stdout",
     "output_type": "stream",
     "text": [
      "sheet_name 7\n"
     ]
    },
    {
     "name": "stderr",
     "output_type": "stream",
     "text": [
      "C:\\Users\\workstation\\AppData\\Local\\Temp\\ipykernel_19532\\3346192428.py:24: SettingWithCopyWarning: \n",
      "A value is trying to be set on a copy of a slice from a DataFrame.\n",
      "Try using .loc[row_indexer,col_indexer] = value instead\n",
      "\n",
      "See the caveats in the documentation: https://pandas.pydata.org/pandas-docs/stable/user_guide/indexing.html#returning-a-view-versus-a-copy\n",
      "  df_f[\"القطاع\"]='اقتصادية'\n",
      "C:\\Users\\workstation\\AppData\\Local\\Temp\\ipykernel_19532\\3346192428.py:25: SettingWithCopyWarning: \n",
      "A value is trying to be set on a copy of a slice from a DataFrame.\n",
      "Try using .loc[row_indexer,col_indexer] = value instead\n",
      "\n",
      "See the caveats in the documentation: https://pandas.pydata.org/pandas-docs/stable/user_guide/indexing.html#returning-a-view-versus-a-copy\n",
      "  df_f[\"الادارةالمركزية\"]='الادارة المركزية للاحصاءات الاقتصادية والمالية'\n",
      "C:\\Users\\workstation\\AppData\\Local\\Temp\\ipykernel_19532\\3346192428.py:26: SettingWithCopyWarning: \n",
      "A value is trying to be set on a copy of a slice from a DataFrame.\n",
      "Try using .loc[row_indexer,col_indexer] = value instead\n",
      "\n",
      "See the caveats in the documentation: https://pandas.pydata.org/pandas-docs/stable/user_guide/indexing.html#returning-a-view-versus-a-copy\n",
      "  df_f[\"الادارةالعامة\"]='الادارة العامة للإحصاءات الزراعية'\n"
     ]
    },
    {
     "name": "stdout",
     "output_type": "stream",
     "text": [
      "sheet_name 8\n"
     ]
    },
    {
     "name": "stderr",
     "output_type": "stream",
     "text": [
      "C:\\Users\\workstation\\AppData\\Local\\Temp\\ipykernel_19532\\3346192428.py:24: SettingWithCopyWarning: \n",
      "A value is trying to be set on a copy of a slice from a DataFrame.\n",
      "Try using .loc[row_indexer,col_indexer] = value instead\n",
      "\n",
      "See the caveats in the documentation: https://pandas.pydata.org/pandas-docs/stable/user_guide/indexing.html#returning-a-view-versus-a-copy\n",
      "  df_f[\"القطاع\"]='اقتصادية'\n"
     ]
    },
    {
     "name": "stdout",
     "output_type": "stream",
     "text": [
      "sheet_name 9\n"
     ]
    },
    {
     "name": "stderr",
     "output_type": "stream",
     "text": [
      "C:\\Users\\workstation\\AppData\\Local\\Temp\\ipykernel_19532\\3346192428.py:24: SettingWithCopyWarning: \n",
      "A value is trying to be set on a copy of a slice from a DataFrame.\n",
      "Try using .loc[row_indexer,col_indexer] = value instead\n",
      "\n",
      "See the caveats in the documentation: https://pandas.pydata.org/pandas-docs/stable/user_guide/indexing.html#returning-a-view-versus-a-copy\n",
      "  df_f[\"القطاع\"]='اقتصادية'\n",
      "C:\\Users\\workstation\\AppData\\Local\\Temp\\ipykernel_19532\\3346192428.py:25: SettingWithCopyWarning: \n",
      "A value is trying to be set on a copy of a slice from a DataFrame.\n",
      "Try using .loc[row_indexer,col_indexer] = value instead\n",
      "\n",
      "See the caveats in the documentation: https://pandas.pydata.org/pandas-docs/stable/user_guide/indexing.html#returning-a-view-versus-a-copy\n",
      "  df_f[\"الادارةالمركزية\"]='الادارة المركزية للاحصاءات الاقتصادية والمالية'\n"
     ]
    },
    {
     "name": "stdout",
     "output_type": "stream",
     "text": [
      "sheet_name 10\n"
     ]
    },
    {
     "name": "stderr",
     "output_type": "stream",
     "text": [
      "C:\\Users\\workstation\\AppData\\Local\\Temp\\ipykernel_19532\\3346192428.py:24: SettingWithCopyWarning: \n",
      "A value is trying to be set on a copy of a slice from a DataFrame.\n",
      "Try using .loc[row_indexer,col_indexer] = value instead\n",
      "\n",
      "See the caveats in the documentation: https://pandas.pydata.org/pandas-docs/stable/user_guide/indexing.html#returning-a-view-versus-a-copy\n",
      "  df_f[\"القطاع\"]='اقتصادية'\n",
      "C:\\Users\\workstation\\AppData\\Local\\Temp\\ipykernel_19532\\3346192428.py:25: SettingWithCopyWarning: \n",
      "A value is trying to be set on a copy of a slice from a DataFrame.\n",
      "Try using .loc[row_indexer,col_indexer] = value instead\n",
      "\n",
      "See the caveats in the documentation: https://pandas.pydata.org/pandas-docs/stable/user_guide/indexing.html#returning-a-view-versus-a-copy\n",
      "  df_f[\"الادارةالمركزية\"]='الادارة المركزية للاحصاءات الاقتصادية والمالية'\n",
      "C:\\Users\\workstation\\AppData\\Local\\Temp\\ipykernel_19532\\3346192428.py:24: SettingWithCopyWarning: \n",
      "A value is trying to be set on a copy of a slice from a DataFrame.\n",
      "Try using .loc[row_indexer,col_indexer] = value instead\n",
      "\n",
      "See the caveats in the documentation: https://pandas.pydata.org/pandas-docs/stable/user_guide/indexing.html#returning-a-view-versus-a-copy\n",
      "  df_f[\"القطاع\"]='اقتصادية'\n",
      "C:\\Users\\workstation\\AppData\\Local\\Temp\\ipykernel_19532\\3346192428.py:25: SettingWithCopyWarning: \n",
      "A value is trying to be set on a copy of a slice from a DataFrame.\n",
      "Try using .loc[row_indexer,col_indexer] = value instead\n",
      "\n",
      "See the caveats in the documentation: https://pandas.pydata.org/pandas-docs/stable/user_guide/indexing.html#returning-a-view-versus-a-copy\n",
      "  df_f[\"الادارةالمركزية\"]='الادارة المركزية للاحصاءات الاقتصادية والمالية'\n"
     ]
    },
    {
     "name": "stdout",
     "output_type": "stream",
     "text": [
      "sheet_name 11\n",
      "sheet_name 12\n"
     ]
    },
    {
     "name": "stderr",
     "output_type": "stream",
     "text": [
      "C:\\Users\\workstation\\AppData\\Local\\Temp\\ipykernel_19532\\3346192428.py:24: SettingWithCopyWarning: \n",
      "A value is trying to be set on a copy of a slice from a DataFrame.\n",
      "Try using .loc[row_indexer,col_indexer] = value instead\n",
      "\n",
      "See the caveats in the documentation: https://pandas.pydata.org/pandas-docs/stable/user_guide/indexing.html#returning-a-view-versus-a-copy\n",
      "  df_f[\"القطاع\"]='اقتصادية'\n",
      "C:\\Users\\workstation\\AppData\\Local\\Temp\\ipykernel_19532\\3346192428.py:25: SettingWithCopyWarning: \n",
      "A value is trying to be set on a copy of a slice from a DataFrame.\n",
      "Try using .loc[row_indexer,col_indexer] = value instead\n",
      "\n",
      "See the caveats in the documentation: https://pandas.pydata.org/pandas-docs/stable/user_guide/indexing.html#returning-a-view-versus-a-copy\n",
      "  df_f[\"الادارةالمركزية\"]='الادارة المركزية للاحصاءات الاقتصادية والمالية'\n",
      "C:\\Users\\workstation\\AppData\\Local\\Temp\\ipykernel_19532\\3346192428.py:24: SettingWithCopyWarning: \n",
      "A value is trying to be set on a copy of a slice from a DataFrame.\n",
      "Try using .loc[row_indexer,col_indexer] = value instead\n",
      "\n",
      "See the caveats in the documentation: https://pandas.pydata.org/pandas-docs/stable/user_guide/indexing.html#returning-a-view-versus-a-copy\n",
      "  df_f[\"القطاع\"]='اقتصادية'\n"
     ]
    },
    {
     "name": "stdout",
     "output_type": "stream",
     "text": [
      "sheet_name 13\n",
      "sheet_name 13_2\n"
     ]
    },
    {
     "name": "stderr",
     "output_type": "stream",
     "text": [
      "C:\\Users\\workstation\\AppData\\Local\\Temp\\ipykernel_19532\\3346192428.py:24: SettingWithCopyWarning: \n",
      "A value is trying to be set on a copy of a slice from a DataFrame.\n",
      "Try using .loc[row_indexer,col_indexer] = value instead\n",
      "\n",
      "See the caveats in the documentation: https://pandas.pydata.org/pandas-docs/stable/user_guide/indexing.html#returning-a-view-versus-a-copy\n",
      "  df_f[\"القطاع\"]='اقتصادية'\n",
      "C:\\Users\\workstation\\AppData\\Local\\Temp\\ipykernel_19532\\3346192428.py:24: SettingWithCopyWarning: \n",
      "A value is trying to be set on a copy of a slice from a DataFrame.\n",
      "Try using .loc[row_indexer,col_indexer] = value instead\n",
      "\n",
      "See the caveats in the documentation: https://pandas.pydata.org/pandas-docs/stable/user_guide/indexing.html#returning-a-view-versus-a-copy\n",
      "  df_f[\"القطاع\"]='اقتصادية'\n",
      "C:\\Users\\workstation\\AppData\\Local\\Temp\\ipykernel_19532\\3346192428.py:25: SettingWithCopyWarning: \n",
      "A value is trying to be set on a copy of a slice from a DataFrame.\n",
      "Try using .loc[row_indexer,col_indexer] = value instead\n",
      "\n",
      "See the caveats in the documentation: https://pandas.pydata.org/pandas-docs/stable/user_guide/indexing.html#returning-a-view-versus-a-copy\n",
      "  df_f[\"الادارةالمركزية\"]='الادارة المركزية للاحصاءات الاقتصادية والمالية'\n"
     ]
    },
    {
     "name": "stdout",
     "output_type": "stream",
     "text": [
      "sheet_name 14\n",
      "sheet_name 14_2\n"
     ]
    },
    {
     "name": "stderr",
     "output_type": "stream",
     "text": [
      "C:\\Users\\workstation\\AppData\\Local\\Temp\\ipykernel_19532\\3346192428.py:24: SettingWithCopyWarning: \n",
      "A value is trying to be set on a copy of a slice from a DataFrame.\n",
      "Try using .loc[row_indexer,col_indexer] = value instead\n",
      "\n",
      "See the caveats in the documentation: https://pandas.pydata.org/pandas-docs/stable/user_guide/indexing.html#returning-a-view-versus-a-copy\n",
      "  df_f[\"القطاع\"]='اقتصادية'\n",
      "C:\\Users\\workstation\\AppData\\Local\\Temp\\ipykernel_19532\\3346192428.py:25: SettingWithCopyWarning: \n",
      "A value is trying to be set on a copy of a slice from a DataFrame.\n",
      "Try using .loc[row_indexer,col_indexer] = value instead\n",
      "\n",
      "See the caveats in the documentation: https://pandas.pydata.org/pandas-docs/stable/user_guide/indexing.html#returning-a-view-versus-a-copy\n",
      "  df_f[\"الادارةالمركزية\"]='الادارة المركزية للاحصاءات الاقتصادية والمالية'\n",
      "C:\\Users\\workstation\\AppData\\Local\\Temp\\ipykernel_19532\\3346192428.py:24: SettingWithCopyWarning: \n",
      "A value is trying to be set on a copy of a slice from a DataFrame.\n",
      "Try using .loc[row_indexer,col_indexer] = value instead\n",
      "\n",
      "See the caveats in the documentation: https://pandas.pydata.org/pandas-docs/stable/user_guide/indexing.html#returning-a-view-versus-a-copy\n",
      "  df_f[\"القطاع\"]='اقتصادية'\n",
      "C:\\Users\\workstation\\AppData\\Local\\Temp\\ipykernel_19532\\3346192428.py:25: SettingWithCopyWarning: \n",
      "A value is trying to be set on a copy of a slice from a DataFrame.\n",
      "Try using .loc[row_indexer,col_indexer] = value instead\n",
      "\n",
      "See the caveats in the documentation: https://pandas.pydata.org/pandas-docs/stable/user_guide/indexing.html#returning-a-view-versus-a-copy\n",
      "  df_f[\"الادارةالمركزية\"]='الادارة المركزية للاحصاءات الاقتصادية والمالية'\n",
      "C:\\Users\\workstation\\AppData\\Local\\Temp\\ipykernel_19532\\3346192428.py:24: SettingWithCopyWarning: \n",
      "A value is trying to be set on a copy of a slice from a DataFrame.\n",
      "Try using .loc[row_indexer,col_indexer] = value instead\n",
      "\n",
      "See the caveats in the documentation: https://pandas.pydata.org/pandas-docs/stable/user_guide/indexing.html#returning-a-view-versus-a-copy\n",
      "  df_f[\"القطاع\"]='اقتصادية'\n"
     ]
    },
    {
     "name": "stdout",
     "output_type": "stream",
     "text": [
      "sheet_name 15\n",
      "sheet_name 15_2\n",
      "sheet_name 16\n"
     ]
    },
    {
     "name": "stderr",
     "output_type": "stream",
     "text": [
      "C:\\Users\\workstation\\AppData\\Local\\Temp\\ipykernel_19532\\3346192428.py:24: SettingWithCopyWarning: \n",
      "A value is trying to be set on a copy of a slice from a DataFrame.\n",
      "Try using .loc[row_indexer,col_indexer] = value instead\n",
      "\n",
      "See the caveats in the documentation: https://pandas.pydata.org/pandas-docs/stable/user_guide/indexing.html#returning-a-view-versus-a-copy\n",
      "  df_f[\"القطاع\"]='اقتصادية'\n",
      "C:\\Users\\workstation\\AppData\\Local\\Temp\\ipykernel_19532\\3346192428.py:24: SettingWithCopyWarning: \n",
      "A value is trying to be set on a copy of a slice from a DataFrame.\n",
      "Try using .loc[row_indexer,col_indexer] = value instead\n",
      "\n",
      "See the caveats in the documentation: https://pandas.pydata.org/pandas-docs/stable/user_guide/indexing.html#returning-a-view-versus-a-copy\n",
      "  df_f[\"القطاع\"]='اقتصادية'\n",
      "C:\\Users\\workstation\\AppData\\Local\\Temp\\ipykernel_19532\\3346192428.py:25: SettingWithCopyWarning: \n",
      "A value is trying to be set on a copy of a slice from a DataFrame.\n",
      "Try using .loc[row_indexer,col_indexer] = value instead\n",
      "\n",
      "See the caveats in the documentation: https://pandas.pydata.org/pandas-docs/stable/user_guide/indexing.html#returning-a-view-versus-a-copy\n",
      "  df_f[\"الادارةالمركزية\"]='الادارة المركزية للاحصاءات الاقتصادية والمالية'\n",
      "C:\\Users\\workstation\\AppData\\Local\\Temp\\ipykernel_19532\\3346192428.py:24: SettingWithCopyWarning: \n",
      "A value is trying to be set on a copy of a slice from a DataFrame.\n",
      "Try using .loc[row_indexer,col_indexer] = value instead\n",
      "\n",
      "See the caveats in the documentation: https://pandas.pydata.org/pandas-docs/stable/user_guide/indexing.html#returning-a-view-versus-a-copy\n",
      "  df_f[\"القطاع\"]='اقتصادية'\n"
     ]
    },
    {
     "name": "stdout",
     "output_type": "stream",
     "text": [
      "sheet_name 16_2\n",
      "sheet_name 17\n",
      "sheet_name 17_2\n",
      "sheet_name 18\n"
     ]
    },
    {
     "name": "stderr",
     "output_type": "stream",
     "text": [
      "C:\\Users\\workstation\\AppData\\Local\\Temp\\ipykernel_19532\\3346192428.py:24: SettingWithCopyWarning: \n",
      "A value is trying to be set on a copy of a slice from a DataFrame.\n",
      "Try using .loc[row_indexer,col_indexer] = value instead\n",
      "\n",
      "See the caveats in the documentation: https://pandas.pydata.org/pandas-docs/stable/user_guide/indexing.html#returning-a-view-versus-a-copy\n",
      "  df_f[\"القطاع\"]='اقتصادية'\n",
      "C:\\Users\\workstation\\AppData\\Local\\Temp\\ipykernel_19532\\3346192428.py:25: SettingWithCopyWarning: \n",
      "A value is trying to be set on a copy of a slice from a DataFrame.\n",
      "Try using .loc[row_indexer,col_indexer] = value instead\n",
      "\n",
      "See the caveats in the documentation: https://pandas.pydata.org/pandas-docs/stable/user_guide/indexing.html#returning-a-view-versus-a-copy\n",
      "  df_f[\"الادارةالمركزية\"]='الادارة المركزية للاحصاءات الاقتصادية والمالية'\n",
      "C:\\Users\\workstation\\AppData\\Local\\Temp\\ipykernel_19532\\3346192428.py:24: SettingWithCopyWarning: \n",
      "A value is trying to be set on a copy of a slice from a DataFrame.\n",
      "Try using .loc[row_indexer,col_indexer] = value instead\n",
      "\n",
      "See the caveats in the documentation: https://pandas.pydata.org/pandas-docs/stable/user_guide/indexing.html#returning-a-view-versus-a-copy\n",
      "  df_f[\"القطاع\"]='اقتصادية'\n",
      "C:\\Users\\workstation\\AppData\\Local\\Temp\\ipykernel_19532\\3346192428.py:25: SettingWithCopyWarning: \n",
      "A value is trying to be set on a copy of a slice from a DataFrame.\n",
      "Try using .loc[row_indexer,col_indexer] = value instead\n",
      "\n",
      "See the caveats in the documentation: https://pandas.pydata.org/pandas-docs/stable/user_guide/indexing.html#returning-a-view-versus-a-copy\n",
      "  df_f[\"الادارةالمركزية\"]='الادارة المركزية للاحصاءات الاقتصادية والمالية'\n",
      "C:\\Users\\workstation\\AppData\\Local\\Temp\\ipykernel_19532\\3346192428.py:24: SettingWithCopyWarning: \n",
      "A value is trying to be set on a copy of a slice from a DataFrame.\n",
      "Try using .loc[row_indexer,col_indexer] = value instead\n",
      "\n",
      "See the caveats in the documentation: https://pandas.pydata.org/pandas-docs/stable/user_guide/indexing.html#returning-a-view-versus-a-copy\n",
      "  df_f[\"القطاع\"]='اقتصادية'\n",
      "C:\\Users\\workstation\\AppData\\Local\\Temp\\ipykernel_19532\\3346192428.py:25: SettingWithCopyWarning: \n",
      "A value is trying to be set on a copy of a slice from a DataFrame.\n",
      "Try using .loc[row_indexer,col_indexer] = value instead\n",
      "\n",
      "See the caveats in the documentation: https://pandas.pydata.org/pandas-docs/stable/user_guide/indexing.html#returning-a-view-versus-a-copy\n",
      "  df_f[\"الادارةالمركزية\"]='الادارة المركزية للاحصاءات الاقتصادية والمالية'\n",
      "C:\\Users\\workstation\\AppData\\Local\\Temp\\ipykernel_19532\\3346192428.py:24: SettingWithCopyWarning: \n",
      "A value is trying to be set on a copy of a slice from a DataFrame.\n",
      "Try using .loc[row_indexer,col_indexer] = value instead\n",
      "\n",
      "See the caveats in the documentation: https://pandas.pydata.org/pandas-docs/stable/user_guide/indexing.html#returning-a-view-versus-a-copy\n",
      "  df_f[\"القطاع\"]='اقتصادية'\n",
      "C:\\Users\\workstation\\AppData\\Local\\Temp\\ipykernel_19532\\3346192428.py:25: SettingWithCopyWarning: \n",
      "A value is trying to be set on a copy of a slice from a DataFrame.\n",
      "Try using .loc[row_indexer,col_indexer] = value instead\n",
      "\n",
      "See the caveats in the documentation: https://pandas.pydata.org/pandas-docs/stable/user_guide/indexing.html#returning-a-view-versus-a-copy\n",
      "  df_f[\"الادارةالمركزية\"]='الادارة المركزية للاحصاءات الاقتصادية والمالية'\n"
     ]
    },
    {
     "name": "stdout",
     "output_type": "stream",
     "text": [
      "sheet_name 18_2\n",
      "sheet_name 19\n",
      "sheet_name 20\n"
     ]
    },
    {
     "name": "stderr",
     "output_type": "stream",
     "text": [
      "C:\\Users\\workstation\\AppData\\Local\\Temp\\ipykernel_19532\\3346192428.py:24: SettingWithCopyWarning: \n",
      "A value is trying to be set on a copy of a slice from a DataFrame.\n",
      "Try using .loc[row_indexer,col_indexer] = value instead\n",
      "\n",
      "See the caveats in the documentation: https://pandas.pydata.org/pandas-docs/stable/user_guide/indexing.html#returning-a-view-versus-a-copy\n",
      "  df_f[\"القطاع\"]='اقتصادية'\n",
      "C:\\Users\\workstation\\AppData\\Local\\Temp\\ipykernel_19532\\3346192428.py:25: SettingWithCopyWarning: \n",
      "A value is trying to be set on a copy of a slice from a DataFrame.\n",
      "Try using .loc[row_indexer,col_indexer] = value instead\n",
      "\n",
      "See the caveats in the documentation: https://pandas.pydata.org/pandas-docs/stable/user_guide/indexing.html#returning-a-view-versus-a-copy\n",
      "  df_f[\"الادارةالمركزية\"]='الادارة المركزية للاحصاءات الاقتصادية والمالية'\n",
      "C:\\Users\\workstation\\AppData\\Local\\Temp\\ipykernel_19532\\3346192428.py:24: SettingWithCopyWarning: \n",
      "A value is trying to be set on a copy of a slice from a DataFrame.\n",
      "Try using .loc[row_indexer,col_indexer] = value instead\n",
      "\n",
      "See the caveats in the documentation: https://pandas.pydata.org/pandas-docs/stable/user_guide/indexing.html#returning-a-view-versus-a-copy\n",
      "  df_f[\"القطاع\"]='اقتصادية'\n",
      "C:\\Users\\workstation\\AppData\\Local\\Temp\\ipykernel_19532\\3346192428.py:25: SettingWithCopyWarning: \n",
      "A value is trying to be set on a copy of a slice from a DataFrame.\n",
      "Try using .loc[row_indexer,col_indexer] = value instead\n",
      "\n",
      "See the caveats in the documentation: https://pandas.pydata.org/pandas-docs/stable/user_guide/indexing.html#returning-a-view-versus-a-copy\n",
      "  df_f[\"الادارةالمركزية\"]='الادارة المركزية للاحصاءات الاقتصادية والمالية'\n",
      "C:\\Users\\workstation\\AppData\\Local\\Temp\\ipykernel_19532\\3346192428.py:24: SettingWithCopyWarning: \n",
      "A value is trying to be set on a copy of a slice from a DataFrame.\n",
      "Try using .loc[row_indexer,col_indexer] = value instead\n",
      "\n",
      "See the caveats in the documentation: https://pandas.pydata.org/pandas-docs/stable/user_guide/indexing.html#returning-a-view-versus-a-copy\n",
      "  df_f[\"القطاع\"]='اقتصادية'\n",
      "C:\\Users\\workstation\\AppData\\Local\\Temp\\ipykernel_19532\\3346192428.py:25: SettingWithCopyWarning: \n",
      "A value is trying to be set on a copy of a slice from a DataFrame.\n",
      "Try using .loc[row_indexer,col_indexer] = value instead\n",
      "\n",
      "See the caveats in the documentation: https://pandas.pydata.org/pandas-docs/stable/user_guide/indexing.html#returning-a-view-versus-a-copy\n",
      "  df_f[\"الادارةالمركزية\"]='الادارة المركزية للاحصاءات الاقتصادية والمالية'\n",
      "C:\\Users\\workstation\\AppData\\Local\\Temp\\ipykernel_19532\\3346192428.py:24: SettingWithCopyWarning: \n",
      "A value is trying to be set on a copy of a slice from a DataFrame.\n",
      "Try using .loc[row_indexer,col_indexer] = value instead\n",
      "\n",
      "See the caveats in the documentation: https://pandas.pydata.org/pandas-docs/stable/user_guide/indexing.html#returning-a-view-versus-a-copy\n",
      "  df_f[\"القطاع\"]='اقتصادية'\n",
      "C:\\Users\\workstation\\AppData\\Local\\Temp\\ipykernel_19532\\3346192428.py:25: SettingWithCopyWarning: \n",
      "A value is trying to be set on a copy of a slice from a DataFrame.\n",
      "Try using .loc[row_indexer,col_indexer] = value instead\n",
      "\n",
      "See the caveats in the documentation: https://pandas.pydata.org/pandas-docs/stable/user_guide/indexing.html#returning-a-view-versus-a-copy\n",
      "  df_f[\"الادارةالمركزية\"]='الادارة المركزية للاحصاءات الاقتصادية والمالية'\n"
     ]
    },
    {
     "name": "stdout",
     "output_type": "stream",
     "text": [
      "sheet_name 21\n",
      "sheet_name 22\n",
      "sheet_name 23\n",
      "sheet_name 24\n",
      "Data has been processed and saved to C:\\Work\\Projects\\data\\out_الالات.xlsx\n"
     ]
    }
   ],
   "source": [
    "import pandas as pd\n",
    "from openpyxl import load_workbook\n",
    "from openpyxl import Workbook\n",
    "\n",
    "excel_file = 'C:\\\\Work\\\\Projects\\\\data\\\\final_NULLالالات.xlsx'\n",
    "output_file = 'C:\\\\Work\\\\Projects\\\\data\\\\out_الالات.xlsx'\n",
    "\n",
    "xls = pd.ExcelFile(excel_file)\n",
    "\n",
    "# Create a writer for the output Excel file\n",
    "with pd.ExcelWriter(output_file, engine='openpyxl') as writer:\n",
    "\n",
    "    \n",
    "    # Iterate through each sheet in the input Excel file\n",
    "    for sheet_name in xls.sheet_names:\n",
    "        print(f'sheet_name {str(sheet_name)}')\n",
    "        df = xls.parse(sheet_name)\n",
    "        df=df.fillna(\" \")\n",
    "        value_column_name = \"القيمة\"\n",
    "        value_column_index = df.columns.get_loc(value_column_name)\n",
    "        selected_columns = df.iloc[:, :value_column_index + 1]\n",
    "        selected_columns[\"المؤشر\"] = selected_columns.apply(lambda row: ' '.join(map(str, row[1:value_column_index])), axis=1)\n",
    "        df_f = selected_columns[['السنة', 'المؤشر', 'القيمة']]\n",
    "        df_f[\"القطاع\"]='اقتصادية'\n",
    "        df_f[\"الادارةالمركزية\"]='الادارة المركزية للاحصاءات الاقتصادية والمالية'\n",
    "        df_f[\"الادارةالعامة\"]='الادارة العامة للإحصاءات الزراعية'\n",
    "        df_f[\"اسم النشرة\"]='الآلات الزراعية الميكانيكية'\n",
    "        df_f=df_f[['القطاع','الادارةالمركزية','الادارةالعامة','اسم النشرة','السنة', 'المؤشر', 'القيمة']]\n",
    "        df_f.to_excel(writer, sheet_name=sheet_name, index=False)\n",
    "\n",
    "   \n",
    "print(f'Data has been processed and saved to {output_file}')\n"
   ]
  }
 ],
 "metadata": {
  "kernelspec": {
   "display_name": "Python 3",
   "language": "python",
   "name": "python3"
  },
  "language_info": {
   "codemirror_mode": {
    "name": "ipython",
    "version": 3
   },
   "file_extension": ".py",
   "mimetype": "text/x-python",
   "name": "python",
   "nbconvert_exporter": "python",
   "pygments_lexer": "ipython3",
   "version": "3.11.5"
  },
  "orig_nbformat": 4
 },
 "nbformat": 4,
 "nbformat_minor": 2
}
